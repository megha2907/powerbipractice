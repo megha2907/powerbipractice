{
 "cells": [
  {
   "cell_type": "code",
   "execution_count": 1,
   "id": "668effea",
   "metadata": {},
   "outputs": [],
   "source": [
    "import pandas as pd\n",
    "import numpy as np\n",
    "from datetime import *"
   ]
  },
  {
   "cell_type": "code",
   "execution_count": 2,
   "id": "cd5e6ca1",
   "metadata": {},
   "outputs": [],
   "source": [
    "#read the file\n",
    "raw_confirmed_cases = pd.read_csv(\"C:\\\\Users\\\\HP User\\\\Desktop\\\\Masters\\\\Git Repos\\\\Powerbipractice\\\\Covid19 Forcasting\\\\Data\\\\time_series_covid19_confirmed_global.csv\")\n",
    "raw_deaths = pd.read_csv(\"C:\\\\Users\\\\HP User\\\\Desktop\\\\Masters\\\\Git Repos\\\\Powerbipractice\\\\Covid19 Forcasting\\\\Data\\\\time_series_covid19_deaths_global.csv\")\n",
    "raw_recovered_cases = pd.read_csv(\"C:\\\\Users\\\\HP User\\\\Desktop\\\\Masters\\\\Git Repos\\\\Powerbipractice\\\\Covid19 Forcasting\\\\Data\\\\time_series_covid19_recovered_global.csv\")"
   ]
  },
  {
   "cell_type": "code",
   "execution_count": 3,
   "id": "23289968",
   "metadata": {},
   "outputs": [
    {
     "name": "stdout",
     "output_type": "stream",
     "text": [
      "Shape of confirmed_cases columns are: (280, 736)\n",
      "Shape of Deaths columns are: (280, 736)\n",
      "Shape of recovered_cases columns are: (265, 736)\n"
     ]
    }
   ],
   "source": [
    "raw_confirmed_cases.head()\n",
    "raw_deaths.head()\n",
    "raw_recovered_cases.head()\n",
    "\n",
    "print(f'Shape of confirmed_cases columns are: {raw_confirmed_cases.shape}')\n",
    "print(f'Shape of Deaths columns are: {raw_deaths.shape}')\n",
    "print(f'Shape of recovered_cases columns are: {raw_recovered_cases.shape}')"
   ]
  },
  {
   "cell_type": "code",
   "execution_count": 4,
   "id": "a05f1a87",
   "metadata": {},
   "outputs": [
    {
     "name": "stdout",
     "output_type": "stream",
     "text": [
      "Shape of confirmed_cases columns are: (204960, 6)\n",
      "Shape of Deaths columns are: (204960, 6)\n",
      "Shape of recovered_cases columns are: (193980, 6)\n"
     ]
    }
   ],
   "source": [
    "#unpivot the dates from columns to rows using pandas melt function\n",
    "raw_confirmed_cases2 = pd.melt(raw_confirmed_cases, id_vars = ['Province/State', 'Country/Region', 'Lat', 'Long'], var_name='Date')\n",
    "raw_deaths2 = pd.melt(raw_deaths, id_vars=['Province/State', 'Country/Region', 'Lat', 'Long'], var_name='Date')\n",
    "raw_recovered_cases2 = pd.melt(raw_recovered_cases, id_vars=['Province/State', 'Country/Region', 'Lat', 'Long'], var_name='Date')\n",
    "\n",
    "print(f'Shape of confirmed_cases columns are: {raw_confirmed_cases2.shape}')\n",
    "print(f'Shape of Deaths columns are: {raw_deaths2.shape}')\n",
    "print(f'Shape of recovered_cases columns are: {raw_recovered_cases2.shape}')"
   ]
  },
  {
   "cell_type": "code",
   "execution_count": 5,
   "id": "f9734079",
   "metadata": {},
   "outputs": [
    {
     "data": {
      "text/plain": [
       "pandas.core.series.Series"
      ]
     },
     "execution_count": 5,
     "metadata": {},
     "output_type": "execute_result"
    }
   ],
   "source": [
    "#check the date column datatype\n",
    "type(raw_confirmed_cases2['Date'])"
   ]
  },
  {
   "cell_type": "code",
   "execution_count": 6,
   "id": "0c1375d7",
   "metadata": {},
   "outputs": [],
   "source": [
    "raw_confirmed_cases2['Date'] = pd.to_datetime(raw_confirmed_cases2['Date'])\n",
    "raw_deaths2 = pd.to_datetime(raw_deaths2['Date'])\n",
    "raw_recovered_cases2 = pd.to_datetime(raw_recovered_cases2['Date'])"
   ]
  },
  {
   "cell_type": "code",
   "execution_count": 7,
   "id": "15178ef8",
   "metadata": {},
   "outputs": [
    {
     "ename": "AttributeError",
     "evalue": "'Series' object has no attribute 'columns'",
     "output_type": "error",
     "traceback": [
      "\u001b[1;31m---------------------------------------------------------------------------\u001b[0m",
      "\u001b[1;31mAttributeError\u001b[0m                            Traceback (most recent call last)",
      "\u001b[1;32mC:\\Users\\HPUSER~1\\AppData\\Local\\Temp/ipykernel_87704/2396422862.py\u001b[0m in \u001b[0;36m<module>\u001b[1;34m\u001b[0m\n\u001b[0;32m      1\u001b[0m \u001b[1;31m#Replace the value column name with the respective dataframe name type. ex. confirmed cases, deaths and recovered\u001b[0m\u001b[1;33m\u001b[0m\u001b[1;33m\u001b[0m\u001b[0m\n\u001b[0;32m      2\u001b[0m \u001b[0mraw_confirmed_cases2\u001b[0m\u001b[1;33m.\u001b[0m\u001b[0mcolumns\u001b[0m \u001b[1;33m=\u001b[0m \u001b[0mraw_confirmed_cases2\u001b[0m\u001b[1;33m.\u001b[0m\u001b[0mcolumns\u001b[0m\u001b[1;33m.\u001b[0m\u001b[0mstr\u001b[0m\u001b[1;33m.\u001b[0m\u001b[0mreplace\u001b[0m\u001b[1;33m(\u001b[0m\u001b[1;34m'value'\u001b[0m\u001b[1;33m,\u001b[0m \u001b[1;34m'Confirmed'\u001b[0m\u001b[1;33m)\u001b[0m\u001b[1;33m\u001b[0m\u001b[1;33m\u001b[0m\u001b[0m\n\u001b[1;32m----> 3\u001b[1;33m \u001b[0mraw_deaths2\u001b[0m\u001b[1;33m.\u001b[0m\u001b[0mcolumns\u001b[0m \u001b[1;33m=\u001b[0m \u001b[0mraw_deaths2\u001b[0m\u001b[1;33m.\u001b[0m\u001b[0mcolumns\u001b[0m\u001b[1;33m.\u001b[0m\u001b[0mstr\u001b[0m\u001b[1;33m.\u001b[0m\u001b[0mreplace\u001b[0m\u001b[1;33m(\u001b[0m\u001b[1;34m'value'\u001b[0m\u001b[1;33m,\u001b[0m \u001b[1;34m'Deaths'\u001b[0m\u001b[1;33m)\u001b[0m\u001b[1;33m\u001b[0m\u001b[1;33m\u001b[0m\u001b[0m\n\u001b[0m\u001b[0;32m      4\u001b[0m \u001b[0mraw_recovered_cases2\u001b[0m\u001b[1;33m.\u001b[0m\u001b[0mcolumns\u001b[0m \u001b[1;33m=\u001b[0m \u001b[0mraw_recovered_cases2\u001b[0m\u001b[1;33m.\u001b[0m\u001b[0mcolumns\u001b[0m\u001b[1;33m.\u001b[0m\u001b[0mstr\u001b[0m\u001b[1;33m.\u001b[0m\u001b[0mreplace\u001b[0m\u001b[1;33m(\u001b[0m\u001b[1;34m'value'\u001b[0m\u001b[1;33m,\u001b[0m \u001b[1;34m'Recovered'\u001b[0m\u001b[1;33m)\u001b[0m\u001b[1;33m\u001b[0m\u001b[1;33m\u001b[0m\u001b[0m\n",
      "\u001b[1;32m~\\anaconda3\\lib\\site-packages\\pandas\\core\\generic.py\u001b[0m in \u001b[0;36m__getattr__\u001b[1;34m(self, name)\u001b[0m\n\u001b[0;32m   5485\u001b[0m         ):\n\u001b[0;32m   5486\u001b[0m             \u001b[1;32mreturn\u001b[0m \u001b[0mself\u001b[0m\u001b[1;33m[\u001b[0m\u001b[0mname\u001b[0m\u001b[1;33m]\u001b[0m\u001b[1;33m\u001b[0m\u001b[1;33m\u001b[0m\u001b[0m\n\u001b[1;32m-> 5487\u001b[1;33m         \u001b[1;32mreturn\u001b[0m \u001b[0mobject\u001b[0m\u001b[1;33m.\u001b[0m\u001b[0m__getattribute__\u001b[0m\u001b[1;33m(\u001b[0m\u001b[0mself\u001b[0m\u001b[1;33m,\u001b[0m \u001b[0mname\u001b[0m\u001b[1;33m)\u001b[0m\u001b[1;33m\u001b[0m\u001b[1;33m\u001b[0m\u001b[0m\n\u001b[0m\u001b[0;32m   5488\u001b[0m \u001b[1;33m\u001b[0m\u001b[0m\n\u001b[0;32m   5489\u001b[0m     \u001b[1;32mdef\u001b[0m \u001b[0m__setattr__\u001b[0m\u001b[1;33m(\u001b[0m\u001b[0mself\u001b[0m\u001b[1;33m,\u001b[0m \u001b[0mname\u001b[0m\u001b[1;33m:\u001b[0m \u001b[0mstr\u001b[0m\u001b[1;33m,\u001b[0m \u001b[0mvalue\u001b[0m\u001b[1;33m)\u001b[0m \u001b[1;33m->\u001b[0m \u001b[1;32mNone\u001b[0m\u001b[1;33m:\u001b[0m\u001b[1;33m\u001b[0m\u001b[1;33m\u001b[0m\u001b[0m\n",
      "\u001b[1;31mAttributeError\u001b[0m: 'Series' object has no attribute 'columns'"
     ]
    }
   ],
   "source": [
    "#Replace the value column name with the respective dataframe name type. ex. confirmed cases, deaths and recovered\n",
    "raw_confirmed_cases2.columns = raw_confirmed_cases2.columns.str.replace('value', 'Confirmed')\n",
    "raw_deaths2.columns = raw_deaths2.columns.str.replace('value', 'Deaths')\n",
    "raw_recovered_cases2.columns = raw_recovered_cases2.columns.str.replace('value', 'Recovered')"
   ]
  },
  {
   "cell_type": "code",
   "execution_count": null,
   "id": "54fe2b1a",
   "metadata": {},
   "outputs": [],
   "source": [
    "raw_confirmed_cases2.isnull().sum()"
   ]
  },
  {
   "cell_type": "code",
   "execution_count": null,
   "id": "a5069993",
   "metadata": {},
   "outputs": [],
   "source": [
    "#Wherever province/state is null, replace it with country names\n"
   ]
  }
 ],
 "metadata": {
  "kernelspec": {
   "display_name": "Python 3 (ipykernel)",
   "language": "python",
   "name": "python3"
  },
  "language_info": {
   "codemirror_mode": {
    "name": "ipython",
    "version": 3
   },
   "file_extension": ".py",
   "mimetype": "text/x-python",
   "name": "python",
   "nbconvert_exporter": "python",
   "pygments_lexer": "ipython3",
   "version": "3.9.7"
  }
 },
 "nbformat": 4,
 "nbformat_minor": 5
}
